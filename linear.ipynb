{
 "cells": [
  {
   "cell_type": "code",
   "execution_count": 1,
   "metadata": {},
   "outputs": [],
   "source": [
    "from sklearn.linear_model import LinearRegression\n",
    "from utils import generate_trainset, standardize_data, plot_scatter, leave_one_out_crossval"
   ]
  },
  {
   "cell_type": "code",
   "execution_count": 2,
   "metadata": {},
   "outputs": [
    {
     "name": "stdout",
     "output_type": "stream",
     "text": [
      "Generating trainset...\n",
      "INFO: Reading excel files.\n",
      "INFO: Reading structures.\n"
     ]
    },
    {
     "name": "stderr",
     "output_type": "stream",
     "text": [
      "100%|██████████| 149/149 [00:00<00:00, 804.20it/s]\n"
     ]
    },
    {
     "name": "stdout",
     "output_type": "stream",
     "text": [
      "INFO: Making features:\n"
     ]
    },
    {
     "name": "stderr",
     "output_type": "stream",
     "text": [
      "100%|██████████| 149/149 [00:00<00:00, 342.31it/s]\n"
     ]
    }
   ],
   "source": [
    "DATA_PATH = './data/dataset.csv'\n",
    "features = [\"C count\", \"N count\", \"O count\", \"H count\", \"S count\",\n",
    "            \"F count\", \"Cl count\", \"atoms count\", \"atoms in ring\",\n",
    "            \"aromatic atoms count\", \"bonds count\", \"conjugated bonds count\",\n",
    "            \"aromatic bonds count\", \"rotatable bonds count\", \"carbonyl O (excl. COOH) count\",\n",
    "            \"exact molecular weight\", \"Morgan FP density\", \"fraction of SP3 C\", \"log P\",\n",
    "            \"molar refractivity\", \"has tertiary amine\", \"has secondary amine\", \"has imine\",\n",
    "            \"has thiophene\", \"has pyrrole\", \"has benzimidazole\", \"has benzothiophene\",\n",
    "            \"has naphthalene\", \"has biphenyl\", \"dipole\", \"homo level\", \"lumo level\",\n",
    "            \"homo/lumo gap\", \"total energy\", \"rotation constant a\", \"rotation constant b\",\n",
    "            \"rotation constant c\", 'purity']\n",
    "\n",
    "print('Generating trainset...')\n",
    "X, y, samples_composition = generate_trainset(path=DATA_PATH, use_simulation=True, objective='PCE')"
   ]
  },
  {
   "cell_type": "code",
   "execution_count": 3,
   "metadata": {},
   "outputs": [],
   "source": [
    "# forward optimization best r2, 8 features, r2: 0.456999140013172, bic: 381.1341164453419\n",
    "single_task_best_features = ['has tertiary amine', 'rotation constant c', 'dipole', 'purity', 'aromatic bonds count', 'N count', 'log P', 'aromatic atoms count']\n",
    "MASK = [(f in single_task_best_features) for f in features]\n",
    "feat_order = [f for f in features if f in single_task_best_features]\n",
    "X = X[..., MASK]\n",
    "\n",
    "preds = []\n",
    "ground = []\n",
    "coefficients = {f: [] for f in feat_order}\n",
    "coefficients['intercept'] = []\n",
    "for xtrain, xtest, ytrain, ytest in leave_one_out_crossval(X, y, samples_composition, reject='both'):\n",
    "    xtrain, ytrain, x_scaler, y_scaler = standardize_data(xtrain, ytrain)\n",
    "    xtest = x_scaler.transform(xtest)\n",
    "    reg = LinearRegression().fit(xtrain, ytrain)\n",
    "    for f, c in zip(feat_order, reg.coef_[0]):\n",
    "        coefficients[f].append(c)\n",
    "    coefficients['intercept'].append(reg.intercept_)\n",
    "    preds.append(y_scaler.inverse_transform(reg.predict(xtest)).item())\n",
    "    ground.append(ytest.item())\n",
    "plot_scatter(preds, ground, save=True, name=\"linear_scatter.png\")"
   ]
  },
  {
   "cell_type": "code",
   "execution_count": null,
   "metadata": {},
   "outputs": [],
   "source": []
  }
 ],
 "metadata": {
  "kernelspec": {
   "display_name": "Python 3",
   "language": "python",
   "name": "python3"
  },
  "language_info": {
   "codemirror_mode": {
    "name": "ipython",
    "version": 3
   },
   "file_extension": ".py",
   "mimetype": "text/x-python",
   "name": "python",
   "nbconvert_exporter": "python",
   "pygments_lexer": "ipython3",
   "version": "3.12.4"
  }
 },
 "nbformat": 4,
 "nbformat_minor": 2
}
