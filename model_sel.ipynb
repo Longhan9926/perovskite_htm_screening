{
 "cells": [
  {
   "cell_type": "code",
   "execution_count": 3,
   "metadata": {},
   "outputs": [],
   "source": [
    "import numpy as np\n",
    "import rdkit\n",
    "import rdkit.Chem\n",
    "import rdkit.Chem.AllChem\n",
    "import rdkit.Chem.Draw\n",
    "import pandas as pd\n",
    "import sys\n",
    "import json\n",
    "import torch\n",
    "import gpytorch\n",
    "from torch.optim.lr_scheduler import StepLR\n",
    "import matplotlib.pyplot as plt\n",
    "from sklearn.linear_model import LinearRegression\n",
    "from sklearn.preprocessing import StandardScaler\n",
    "from sklearn.model_selection import KFold\n",
    "from sklearn.gaussian_process.kernels import (\n",
    "    ConstantKernel, RBF, DotProduct, WhiteKernel, Matern, Exponentiation, ExpSineSquared, RationalQuadratic)\n",
    "from sklearn.gaussian_process import GaussianProcessRegressor\n",
    "from sklearn.metrics import r2_score\n",
    "from sklearn.kernel_ridge import KernelRidge\n",
    "from sklearn.ensemble import RandomForestRegressor\n",
    "from reaction import ReactionAB\n",
    "# from experiment import ExperimentalDataset\n",
    "from features import MolFeatures\n",
    "from theoretical import TheoSimulation"
   ]
  },
  {
   "cell_type": "code",
   "execution_count": 5,
   "metadata": {},
   "outputs": [],
   "source": [
    "import re"
   ]
  },
  {
   "cell_type": "code",
   "execution_count": 7,
   "metadata": {},
   "outputs": [],
   "source": [
    "use_simulation_data = True\n",
    "\n",
    "label_names = [\"PCE\", \"Jsc\", \"Voc\", \"FF\"]\n",
    "new_data = pd.read_csv(\"data/dataset.csv\")\n",
    "\n",
    "# For the model selection only the first initial data is availbable\n",
    "new_data = new_data.iloc[:100, :]\n",
    "samples, targets = [\n",
    "    re.sub(r\"[()' ]\", \"\", x).split(\",\") for\n",
    "    x in new_data[\"AB\"].values\n",
    "], new_data.loc[:, label_names].values"
   ]
  },
  {
   "cell_type": "code",
   "execution_count": 12,
   "metadata": {},
   "outputs": [],
   "source": [
    "feat_cols = [\n",
    "    \"C\",\n",
    "    \"N\",\n",
    "    \"O\",\n",
    "    \"H\",\n",
    "    \"S\",\n",
    "    \"F\",\n",
    "    # \"Cl\",\n",
    "    \"NumAtoms\",\n",
    "    \"AtomIsInRing\",\n",
    "    \"AtomIsAromatic\",\n",
    "    \"NumBonds\",\n",
    "    \"BondIsConjugated\",\n",
    "    \"BondIsAromatic\",\n",
    "    \"NumRotatableBonds\",\n",
    "    # \"fr_C_O_noCOO\",\n",
    "    # \"fr_Al_COO\",\n",
    "    # \"fr_Ar_COO\",\n",
    "    # \"fr_Al_OH\",\n",
    "    # \"fr_Ar_OH\",\n",
    "    # \"fr_NH2\",\n",
    "    # \"fr_SH\",\n",
    "    # \"fr_sulfide\",\n",
    "    # \"fr_alkyl_halide\"\n",
    "    \"ExactMolWt\",\n",
    "    \"FpDensityMorgan3\",\n",
    "    \"MolLogP\",\n",
    "    \"MolMR\",\n",
    "    \"FractionCSP3\",\n",
    "    \"has_CN(C)C\",\n",
    "    # \"has_cnc\",\n",
    "    # \"has_C=NC\",\n",
    "    # \"has_Thiophene\",\n",
    "    # \"has_Pyrrole\",\n",
    "    # \"has_Benzimidazole\",\n",
    "    # \"has_Benzothiophene\",\n",
    "    # \"has_Naphthalene\",\n",
    "    \"has_Biphenyl\"\n",
    "]\n",
    "theo_cols = [\n",
    "    \"dipole\",\n",
    "    \"homo\",\n",
    "    \"lumo\",\n",
    "    \"gap\",\n",
    "    \"energy\",\n",
    "    \"a\",\n",
    "    \"b\",\n",
    "    \"c\"\n",
    "]"
   ]
  },
  {
   "cell_type": "code",
   "execution_count": 8,
   "metadata": {},
   "outputs": [
    {
     "name": "stdout",
     "output_type": "stream",
     "text": [
      "INFO: Reading excel files.\n",
      "INFO: Reading structures.\n"
     ]
    },
    {
     "name": "stderr",
     "output_type": "stream",
     "text": [
      "100%|██████████| 100/100 [00:00<00:00, 755.66it/s]\n"
     ]
    }
   ],
   "source": [
    "# Make reaction\n",
    "reaction_engine = ReactionAB(file_name_a=\"Mol_Group_A.xlsx\", file_name_b=\"Mol_Group_B.xlsx\",\n",
    "                             data_dir_path=\"./data\")\n",
    "mols = reaction_engine.run_combos(samples)"
   ]
  },
  {
   "cell_type": "code",
   "execution_count": 13,
   "metadata": {},
   "outputs": [
    {
     "name": "stdout",
     "output_type": "stream",
     "text": [
      "INFO: Making features:\n"
     ]
    },
    {
     "name": "stderr",
     "output_type": "stream",
     "text": [
      "100%|██████████| 100/100 [00:00<00:00, 378.86it/s]\n"
     ]
    }
   ],
   "source": [
    "feature_generator = MolFeatures(descriptor_list=feat_cols)\n",
    "features = feature_generator(mols)"
   ]
  },
  {
   "cell_type": "code",
   "execution_count": 15,
   "metadata": {},
   "outputs": [],
   "source": [
    "if use_simulation_data:\n",
    "    theo_generator = TheoSimulation(file_name=\"Theo_simu.xlsx\", descriptor_list=theo_cols, data_dir_path=\"./data\")\n",
    "    _, theos = theo_generator.labels_for_combos(samples)\n",
    "    features = np.concatenate([features, theos], axis=-1)\n",
    "\n",
    "columns = {\"ID\": [\"\".join(x) for x in samples]}\n",
    "columns.update({x: features[:, i] for i, x in enumerate(feat_cols)})\n",
    "if use_simulation_data:\n",
    "    columns.update({x: theos[:, i] for i, x in enumerate(theo_cols)})\n",
    "columns.update({x: targets[:, i] for i, x in enumerate(label_names)})\n",
    "columns.update({\"MolFormular\": [rdkit.Chem.rdMolDescriptors.CalcMolFormula(m) for m in mols]})\n"
   ]
  },
  {
   "cell_type": "code",
   "execution_count": 14,
   "metadata": {},
   "outputs": [],
   "source": [
    "ignore_samples_mask = targets[:, 2] > 0.2"
   ]
  },
  {
   "cell_type": "code",
   "execution_count": null,
   "metadata": {},
   "outputs": [],
   "source": []
  }
 ],
 "metadata": {
  "kernelspec": {
   "display_name": "Python 3",
   "language": "python",
   "name": "python3"
  },
  "language_info": {
   "codemirror_mode": {
    "name": "ipython",
    "version": 3
   },
   "file_extension": ".py",
   "mimetype": "text/x-python",
   "name": "python",
   "nbconvert_exporter": "python",
   "pygments_lexer": "ipython3",
   "version": "3.12.4"
  }
 },
 "nbformat": 4,
 "nbformat_minor": 2
}
